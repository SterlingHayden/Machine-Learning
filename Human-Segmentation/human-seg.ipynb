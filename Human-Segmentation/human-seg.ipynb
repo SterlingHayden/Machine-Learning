{
 "cells": [
  {
   "cell_type": "code",
   "execution_count": null,
   "metadata": {},
   "outputs": [],
   "source": [
    "# imports\n",
    "import tensorflow as tf\n",
    "import numpy as np\n",
    "import os\n",
    "from skimage.io import imread, imshow\n",
    "from skimage.transform import resize\n",
    "from skimage import color\n",
    "from tensorflow.keras.models import load_model\n",
    "from tensorflow.compat.v1 import get_default_graph\n",
    "from tensorflow.compat.v1 import executing_eagerly_outside_functions\n",
    "from tensorflow.compat.v1.losses import sparse_softmax_cross_entropy as sp_softmax_xent\n",
    "from tensorflow.compat.v1.keras.optimizers import Adam\n",
    "import matplotlib.pyplot as plt\n",
    "import cv2"
   ]
  },
  {
   "cell_type": "code",
   "execution_count": null,
   "metadata": {},
   "outputs": [],
   "source": [
    "# create X and y\n",
    "IMG_HEIGHT = 224\n",
    "IMG_WIDTH  = 224\n",
    "CHANNELS = 3\n",
    "\n",
    "\n",
    "training_images_names = os.listdir('data/membrane/train/image/')\n",
    "training_masks_names = os.listdir('data/membrane/train/label/')\n",
    "\n",
    "X = np.zeros((len(training_images_names),IMG_HEIGHT,IMG_WIDTH,CHANNELS),dtype='uint8')\n",
    "y = np.zeros((len(training_masks_names),IMG_HEIGHT,IMG_WIDTH,1))"
   ]
  },
  {
   "cell_type": "code",
   "execution_count": null,
   "metadata": {},
   "outputs": [],
   "source": [
    "# fill X and y\n",
    "for i,n in enumerate(training_images_names):\n",
    "    img = imread(f'data/membrane/train/image/{n}')\n",
    "    img = resize(img,(IMG_HEIGHT,IMG_WIDTH,CHANNELS),mode='constant',preserve_range=True)\n",
    "    fn = str(n.split('.')[0]) + '.png'\n",
    "    mask = imread(f'data/membrane/train/label/{fn}')\n",
    "    mask = resize(mask,(IMG_HEIGHT,IMG_WIDTH,1),mode='constant')\n",
    "    \n",
    "    X[i] = img\n",
    "    y[i] = mask\n",
    "    \n",
    "X[0].shape"
   ]
  },
  {
   "cell_type": "code",
   "execution_count": null,
   "metadata": {},
   "outputs": [],
   "source": [
    "# plot out an example\n",
    "i = np.random.randint(0,len(X))\n",
    "fig,(a1,a2)=plt.subplots(1,2)\n",
    "a1.imshow(X[i])\n",
    "a2.imshow(y[i].reshape(y[i].shape[:-1]))\n",
    "print(y[i].reshape(y[i].shape[:-1]).shape)"
   ]
  },
  {
   "cell_type": "code",
   "execution_count": null,
   "metadata": {},
   "outputs": [],
   "source": [
    "from model import unet\n",
    "model=unet()\n",
    "\n",
    "from keras.metrics import MeanIoU\n",
    "iou_metric = MeanIoU(num_classes=2)\n",
    "\n",
    "from dice import dice_loss\n",
    "model.compile(optimizer = 'adam', loss=dice_loss, metrics=['accuracy', iou_metric])"
   ]
  },
  {
   "cell_type": "code",
   "execution_count": null,
   "metadata": {},
   "outputs": [],
   "source": [
    "results = model.fit(X,y,batch_size=25,epochs=10)"
   ]
  },
  {
   "cell_type": "code",
   "execution_count": null,
   "metadata": {},
   "outputs": [],
   "source": [
    "model.save('modelv3.h5')\n"
   ]
  }
 ],
 "metadata": {
  "kernelspec": {
   "display_name": "Python 3",
   "language": "python",
   "name": "python3"
  },
  "language_info": {
   "codemirror_mode": {
    "name": "ipython",
    "version": 3
   },
   "file_extension": ".py",
   "mimetype": "text/x-python",
   "name": "python",
   "nbconvert_exporter": "python",
   "pygments_lexer": "ipython3",
   "version": "3.9.12"
  }
 },
 "nbformat": 4,
 "nbformat_minor": 2
}
